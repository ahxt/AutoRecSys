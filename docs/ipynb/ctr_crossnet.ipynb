{
 "cells": [
  {
   "cell_type": "code",
   "execution_count": null,
   "metadata": {},
   "outputs": [],
   "source": [
    "!pip install autorec"
   ]
  },
  {
   "cell_type": "markdown",
   "metadata": {},
   "source": [
    "## Importing the data\n",
    "First, the data should be loaded with the right configurations set. "
   ]
  },
  {
   "cell_type": "code",
   "execution_count": null,
   "metadata": {},
   "outputs": [],
   "source": [
    "import os\n",
    "os.environ[\"CUDA_VISIBLE_DEVICES\"] = \"7\"\n",
    "\n",
    "import logging\n",
    "import tensorflow as tf\n",
    "import numpy as np\n",
    "from autorecsys.auto_search import Search\n",
    "from autorecsys.pipeline import Input, DenseFeatureMapper, SparseFeatureMapper, CrossNetInteraction, MLPInteraction, PointWiseOptimizer\n",
    "from autorecsys.recommender import CTRRecommender\n",
    "from autorecsys.pipeline.preprocessor import CriteoPreprocessor\n",
    "\n",
    "\n",
    "# logging setting\n",
    "logging.basicConfig(level=logging.INFO, format='%(asctime)s - %(name)s - %(levelname)s - %(message)s')\n",
    "logging.basicConfig(level=logging.DEBUG, format='%(asctime)s - %(name)s - %(levelname)s - %(message)s')\n",
    "logger = logging.getLogger(__name__)\n",
    "\n",
    "# load dataset\n",
    "criteo = CriteoPreprocessor()  # automatically set up for preprocessing the Criteo dataset\n",
    "train_X, train_y, val_X, val_y, test_X, test_y = criteo.preprocess()"
   ]
  },
  {
   "cell_type": "markdown",
   "metadata": {},
   "source": [
    "## Building the pipeline\n",
    "The next step is to build the pipeline. In this example, we used both dense and sparse feature embeddings, with crossnet interactions in a CTR recommender model. "
   ]
  },
  {
   "cell_type": "code",
   "execution_count": null,
   "metadata": {},
   "outputs": [],
   "source": [
    "# build the pipeline.\n",
    "dense_input_node = Input(shape=[criteo.get_numerical_count()])\n",
    "sparse_input_node = Input(shape=[criteo.get_categorical_count()])\n",
    "\n",
    "dense_feat_emb = DenseFeatureMapper(\n",
    "    num_of_fields=criteo.get_numerical_count(),\n",
    "    embedding_dim=2)(dense_input_node)\n",
    "sparse_feat_emb = SparseFeatureMapper(\n",
    "    num_of_fields=criteo.get_categorical_count(),\n",
    "    hash_size=criteo.get_hash_size(),\n",
    "    embedding_dim=2)(sparse_input_node)\n",
    "\n",
    "crossnet_output = CrossNetInteraction()([dense_feat_emb, sparse_feat_emb])\n",
    "bottom_mlp_output = MLPInteraction()([dense_feat_emb])\n",
    "top_mlp_output = MLPInteraction()([crossnet_output, bottom_mlp_output])\n",
    "\n",
    "output = PointWiseOptimizer()(top_mlp_output)\n",
    "model = CTRRecommender(inputs=[dense_input_node, sparse_input_node], outputs=output)"
   ]
  },
  {
   "cell_type": "markdown",
   "metadata": {},
   "source": [
    "## Search the Model Architecture\n",
    "The search function of AutoRec will now find the models with the best accuracies and show the predictions. "
   ]
  },
  {
   "cell_type": "code",
   "execution_count": null,
   "metadata": {},
   "outputs": [],
   "source": [
    "# AutoML search and predict.\n",
    "searcher = Search(model=model,\n",
    "                  tuner='random',\n",
    "                  tuner_params={'max_trials': 2, 'overwrite': True},\n",
    "                  )\n",
    "searcher.search(x=[criteo.get_x_numerical(train_X), criteo.get_x_categorical(train_X)],\n",
    "                y=train_y,\n",
    "                x_val=[criteo.get_x_numerical(val_X), criteo.get_x_categorical(val_X)],\n",
    "                y_val=val_y,\n",
    "                objective='val_BinaryCrossentropy',\n",
    "                batch_size=10000,\n",
    "                epochs = 20,\n",
    "                callbacks = [ tf.keras.callbacks.EarlyStopping(monitor='val_loss', patience=1)] \n",
    "                )\n",
    "logger.info('First 10 Predicted Ratings: {}'.format(searcher.predict(x=[criteo.get_x_numerical(val_X), criteo.get_x_categorical(val_X)])[:10]))\n",
    "logger.info('Predicting Accuracy (logloss): {}'.format(searcher.evaluate(x=[criteo.get_x_numerical(val_X), criteo.get_x_categorical(val_X)], y_true=val_y)))"
   ]
  }
 ],
 "metadata": {
  "kernelspec": {
   "display_name": "Python 3",
   "language": "python",
   "name": "python3"
  },
  "language_info": {
   "codemirror_mode": {
    "name": "ipython",
    "version": 3
   },
   "file_extension": ".py",
   "mimetype": "text/x-python",
   "name": "python",
   "nbconvert_exporter": "python",
   "pygments_lexer": "ipython3",
   "version": "3.6.9"
  }
 },
 "nbformat": 4,
 "nbformat_minor": 4
}

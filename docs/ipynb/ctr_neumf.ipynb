{
 "cells": [
  {
   "cell_type": "code",
   "execution_count": null,
   "metadata": {},
   "outputs": [],
   "source": [
    "!pip install autorec"
   ]
  },
  {
   "cell_type": "markdown",
   "metadata": {},
   "source": [
    "## Imports and configurations\n",
    "First, imports should be loaded with the right configurations set. "
   ]
  },
  {
   "cell_type": "code",
   "execution_count": null,
   "metadata": {},
   "outputs": [],
   "source": [
    "# -*- coding: utf-8 -*-\n",
    "from __future__ import absolute_import, division, print_function, unicode_literals\n",
    "\n",
    "import os\n",
    "os.environ[\"CUDA_VISIBLE_DEVICES\"] = \"6\"\n",
    "\n",
    "import logging\n",
    "import tensorflow as tf\n",
    "from autorecsys.auto_search import Search\n",
    "from autorecsys.pipeline import Input, LatentFactorMapper, MLPInteraction, PointWiseOptimizer, ElementwiseInteraction\n",
    "from autorecsys.recommender import CTRRecommender\n",
    "from autorecsys.pipeline.preprocessor import CriteoPreprocessor\n",
    "\n",
    "\n",
    "# logging setting\n",
    "logging.basicConfig(level=logging.INFO, format='%(asctime)s - %(name)s - %(levelname)s - %(message)s')\n",
    "logging.basicConfig(level=logging.DEBUG, format='%(asctime)s - %(name)s - %(levelname)s - %(message)s')\n",
    "logger = logging.getLogger(__name__)"
   ]
  },
  {
   "cell_type": "markdown",
   "metadata": {},
   "source": [
    "## Preprocess data\n",
    "We then load the preprocessed Criteo data. "
   ]
  },
  {
   "cell_type": "code",
   "execution_count": null,
   "metadata": {},
   "outputs": [],
   "source": [
    "# load dataset\n",
    "criteo = CriteoPreprocessor()  # automatically set up for preprocessing the Criteo dataset\n",
    "train_X, train_y, val_X, val_y, test_X, test_y = criteo.preprocess()"
   ]
  },
  {
   "cell_type": "markdown",
   "metadata": {},
   "source": [
    "## Building the pipeline\n",
    "The next step is to build the pipeline. In this example, we used both dense and sparse feature embeddings, with crossnet interactions in a CTR recommender model. "
   ]
  },
  {
   "cell_type": "code",
   "execution_count": null,
   "metadata": {},
   "outputs": [],
   "source": [
    "# build the pipeline.\n",
    "input = Input(shape=[criteo.get_categorical_count()])\n",
    "user_emb_gmf = LatentFactorMapper(feat_column_id=0,\n",
    "                                  id_num=10000,\n",
    "                                  embedding_dim=64)(input)\n",
    "item_emb_gmf = LatentFactorMapper(feat_column_id=1,\n",
    "                                  id_num=10000,\n",
    "                                  embedding_dim=64)(input)\n",
    "\n",
    "user_emb_mlp = LatentFactorMapper(feat_column_id=0,\n",
    "                                  id_num=10000,\n",
    "                                  embedding_dim=64)(input)\n",
    "item_emb_mlp = LatentFactorMapper(feat_column_id=1,\n",
    "                                  id_num=10000,\n",
    "                                  embedding_dim=64)(input)\n",
    "innerproduct_output = ElementwiseInteraction(elementwise_type=\"innerporduct\")([user_emb_gmf, item_emb_gmf])\n",
    "mlp_output = MLPInteraction()([user_emb_mlp, item_emb_mlp])\n",
    "output = PointWiseOptimizer()([innerproduct_output, mlp_output])\n",
    "model = CTRRecommender(inputs=input, outputs=output)"
   ]
  },
  {
   "cell_type": "markdown",
   "metadata": {},
   "source": [
    "## Search the Model Architecture\n",
    "The search function of AutoRec will now find the models with the best accuracies and show the predictions. "
   ]
  },
  {
   "cell_type": "code",
   "execution_count": null,
   "metadata": {},
   "outputs": [],
   "source": [
    "# AutoML search and predict.\n",
    "searcher = Search(model=model,\n",
    "                  tuner='random',\n",
    "                  tuner_params={'max_trials': 10, 'overwrite': True},\n",
    "                  )\n",
    "searcher.search(x=[criteo.get_x_categorical(train_X)],\n",
    "                y=train_y,\n",
    "                x_val=[criteo.get_x_categorical(val_X)],\n",
    "                y_val=val_y,\n",
    "                objective='val_BinaryCrossentropy',\n",
    "                batch_size=256,\n",
    "                epochs = 20,\n",
    "                callbacks = [ tf.keras.callbacks.EarlyStopping(monitor='val_loss', patience=1)] \n",
    "                )\n",
    "logger.info('Predicted Ratings: {}'.format(searcher.predict(x=[criteo.get_x_categorical(val_X)])))\n",
    "logger.info('Predicting Accuracy (mse): {}'.format(searcher.evaluate(x=[criteo.get_x_categorical(val_X)], y_true=val_y)))"
   ]
  }
 ],
 "metadata": {
  "kernelspec": {
   "display_name": "Python 3",
   "language": "python",
   "name": "python3"
  },
  "language_info": {
   "codemirror_mode": {
    "name": "ipython",
    "version": 3
   },
   "file_extension": ".py",
   "mimetype": "text/x-python",
   "name": "python",
   "nbconvert_exporter": "python",
   "pygments_lexer": "ipython3",
   "version": "3.6.9"
  }
 },
 "nbformat": 4,
 "nbformat_minor": 4
}

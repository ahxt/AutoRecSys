{
 "cells": [
  {
   "cell_type": "code",
   "execution_count": null,
   "metadata": {},
   "outputs": [],
   "source": [
    "!pip install autorec"
   ]
  },
  {
   "cell_type": "markdown",
   "metadata": {},
   "source": [
    "## Imports and configurations\n",
    "First, imports should be loaded with the right configurations set. "
   ]
  },
  {
   "cell_type": "code",
   "execution_count": null,
   "metadata": {},
   "outputs": [],
   "source": [
    "# -*- coding: utf-8 -*-\n",
    "from __future__ import absolute_import, division, print_function, unicode_literals\n",
    "\n",
    "import os\n",
    "os.environ[\"CUDA_VISIBLE_DEVICES\"] = \"7\"\n",
    "\n",
    "import logging\n",
    "import tensorflow as tf\n",
    "import numpy as np\n",
    "from autorecsys.auto_search import Search\n",
    "from autorecsys.pipeline import Input, DenseFeatureMapper, SparseFeatureMapper, FMInteraction, MLPInteraction, PointWiseOptimizer\n",
    "from autorecsys.recommender import CTRRecommender\n",
    "from autorecsys.pipeline.preprocessor import CriteoPreprocessor, AvazuPreprocessor\n",
    "\n",
    "\n",
    "# logging setting\n",
    "logging.basicConfig(level=logging.INFO, format='%(asctime)s - %(name)s - %(levelname)s - %(message)s')\n",
    "logging.basicConfig(level=logging.DEBUG, format='%(asctime)s - %(name)s - %(levelname)s - %(message)s')\n",
    "logger = logging.getLogger(__name__)"
   ]
  },
  {
   "cell_type": "markdown",
   "metadata": {},
   "source": [
    "## Preprocess data\n",
    "We then load the preprocessed Criteo data. "
   ]
  },
  {
   "cell_type": "code",
   "execution_count": null,
   "metadata": {},
   "outputs": [],
   "source": [
    "# Step 1: Preprocess data\n",
    "criteo = CriteoPreprocessor()  # the default arguments are setup to preprocess the Criteo example dataset\n",
    "train_X, train_y, val_X, val_y, test_X, test_y = criteo.preprocess()\n",
    "train_X_numerical, train_X_categorical = criteo.get_x_numerical(train_X), criteo.get_x_categorical(train_X)\n",
    "val_X_numerical, val_X_categorical = criteo.get_x_numerical(val_X), criteo.get_x_categorical(val_X)\n",
    "test_X_numerical, test_X_categorical = criteo.get_x_numerical(test_X), criteo.get_x_categorical(test_X)\n",
    "numerical_count = criteo.get_numerical_count()\n",
    "categorical_count = criteo.get_categorical_count()\n",
    "hash_size = criteo.get_hash_size()"
   ]
  },
  {
   "cell_type": "markdown",
   "metadata": {},
   "source": [
    "## Build the recommender\n",
    "The next step is to build the recommender by setting up the mapper, interactor, and optimizer. The recommender provides the search space for the searcher. "
   ]
  },
  {
   "cell_type": "code",
   "execution_count": null,
   "metadata": {},
   "outputs": [],
   "source": [
    "# Step 2.1: Setup mappers to handle inputs\n",
    "dense_input_node = Input(shape=[numerical_count])\n",
    "sparse_input_node = Input(shape=[categorical_count])\n",
    "dense_feat_emb = DenseFeatureMapper(\n",
    "    num_of_fields=numerical_count,\n",
    "    embedding_dim=2)(dense_input_node)\n",
    "sparse_feat_emb = SparseFeatureMapper(\n",
    "    num_of_fields=categorical_count,\n",
    "    hash_size=hash_size,\n",
    "    embedding_dim=2)(sparse_input_node)\n",
    "\n",
    "# Step 2.2: Setup interactors to handle models\n",
    "fm_output = FMInteraction()([sparse_feat_emb])\n",
    "bottom_mlp_output = MLPInteraction()([dense_feat_emb])\n",
    "top_mlp_output = MLPInteraction()([fm_output, bottom_mlp_output])\n",
    "\n",
    "# Step 2.3: Setup optimizer to handle the target task\n",
    "output = PointWiseOptimizer()(top_mlp_output)\n",
    "model = CTRRecommender(inputs=[dense_input_node, sparse_input_node], outputs=output)"
   ]
  },
  {
   "cell_type": "markdown",
   "metadata": {},
   "source": [
    "## Build the searcher\n",
    "The search function of AutoRec will now use the search algorithm to find the models with the best accuracies and show the predictions. "
   ]
  },
  {
   "cell_type": "code",
   "execution_count": null,
   "metadata": {},
   "outputs": [],
   "source": [
    "# Step 3: Build the searcher, which provides search algorithm\n",
    "searcher = Search(model=model,\n",
    "                  tuner='random',\n",
    "                  tuner_params={'max_trials': 2, 'overwrite': True},\n",
    "                  )\n",
    "\n",
    "# Step 4: Use the searcher to search the recommender\n",
    "searcher.search(x=[train_X_numerical, train_X_categorical],\n",
    "                y=train_y,\n",
    "                x_val=[val_X_numerical, val_X_categorical],\n",
    "                y_val=val_y,\n",
    "                objective='val_BinaryCrossentropy',\n",
    "                batch_size=10000,\n",
    "                epochs=2,\n",
    "                callbacks=[tf.keras.callbacks.EarlyStopping(monitor='val_loss', patience=1)]\n",
    "                )\n",
    "logger.info('Validation Accuracy (logloss): {}'.format(searcher.evaluate(x=[val_X_numerical, val_X_categorical],\n",
    "                                                                         y_true=val_y)))"
   ]
  },
  {
   "cell_type": "markdown",
   "metadata": {},
   "source": [
    "## Evaluate the searched model"
   ]
  },
  {
   "cell_type": "code",
   "execution_count": null,
   "metadata": {},
   "outputs": [],
   "source": [
    "logger.info('Test Accuracy (logloss): {}'.format(searcher.evaluate(x=[test_X_numerical, test_X_categorical],\n",
    "                                                                   y_true=test_y)))"
   ]
  }
 ],
 "metadata": {
  "kernelspec": {
   "display_name": "Python 3",
   "language": "python",
   "name": "python3"
  },
  "language_info": {
   "codemirror_mode": {
    "name": "ipython",
    "version": 3
   },
   "file_extension": ".py",
   "mimetype": "text/x-python",
   "name": "python",
   "nbconvert_exporter": "python",
   "pygments_lexer": "ipython3",
   "version": "3.6.9"
  }
 },
 "nbformat": 4,
 "nbformat_minor": 4
}

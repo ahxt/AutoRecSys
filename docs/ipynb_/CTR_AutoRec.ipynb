{
  "nbformat": 4,
  "nbformat_minor": 0,
  "metadata": {
    "colab": {
      "name": "CTR AutoRec",
      "provenance": [],
      "collapsed_sections": []
    },
    "kernelspec": {
      "name": "python3",
      "display_name": "Python 3"
    }
  },
  "cells": [
    {
      "cell_type": "code",
      "metadata": {
        "id": "tfDYOileInVS"
      },
      "source": [
        "!pip install autorec==0.0.2\n",
        "url = 'https://raw.githubusercontent.com/datamllab/AutoRec/master/examples/example_datasets/criteo/train-10k.txt'\n"
      ],
      "execution_count": null,
      "outputs": []
    },
    {
      "cell_type": "markdown",
      "metadata": {
        "id": "ndzdIKOzJiK5"
      },
      "source": [
        "# AutoRec\n",
        "*Click-through rate*\n",
        "\n",
        "Description:\n",
        "Our AutoRec has a specaility when you want to search a model without any prior knowledge. Autorec selects different blocks in the interactor. Autorec is especially useful for 1) users who need the optimal model after systematic exploration and  2) users who wants to contemplate about the intuition behind the searched model.\n",
        "\n",
        "\n",
        "## A simple example below\n",
        "\n",
        "**Step 0:Imports and Configurations**\n",
        "\n",
        "First, handle the imports with the correct configurations set. Also include the logging settings here.\n"
      ]
    },
    {
      "cell_type": "code",
      "metadata": {
        "id": "wMCciyEEUA7a"
      },
      "source": [
        "from __future__ import absolute_import, division, print_function, unicode_literals\n",
        "import os\n",
        "os.environ[\"CUDA_VISIBLE_DEVICES\"] = \"7\"\n",
        "import logging\n",
        "import tensorflow as tf\n",
        "import numpy as np\n",
        "from autorecsys.auto_search import Search\n",
        "from autorecsys.pipeline import Input, DenseFeatureMapper, SparseFeatureMapper, HyperInteraction, CTRPredictionOptimizer\n",
        "from autorecsys.recommender import CTRRecommender\n",
        "from autorecsys.pipeline.preprocessor import CriteoPreprocessor\n",
        "\n",
        "\n",
        "# logging setting\n",
        "logging.basicConfig(level=logging.INFO, format='%(asctime)s - %(name)s - %(levelname)s - %(message)s')\n",
        "logging.basicConfig(level=logging.DEBUG, format='%(asctime)s - %(name)s - %(levelname)s - %(message)s')\n",
        "logger = logging.getLogger(__name__)\n"
      ],
      "execution_count": null,
      "outputs": []
    },
    {
      "cell_type": "markdown",
      "metadata": {
        "id": "-GKl4XIFT-1F"
      },
      "source": [
        "**Step 1: Preprocess data**\n",
        "\n",
        "CriteoPreprocessor() is a already built-in preprocessor for the Criteo dataset. \n"
      ]
    },
    {
      "cell_type": "code",
      "metadata": {
        "id": "AmN65RkXKZB5"
      },
      "source": [
        "# Step 1: Preprocess data\n",
        "criteo = CriteoPreprocessor(csv_path=url)  # the default arguments are setup to preprocess the Criteo example dataset\n",
        "train_X, train_y, val_X, val_y, test_X, test_y = criteo.preprocess()\n",
        "train_X_numerical, train_X_categorical = criteo.get_x_numerical(train_X), criteo.get_x_categorical(train_X)\n",
        "val_X_numerical, val_X_categorical = criteo.get_x_numerical(val_X), criteo.get_x_categorical(val_X)\n",
        "test_X_numerical, test_X_categorical = criteo.get_x_numerical(test_X), criteo.get_x_categorical(test_X)\n",
        "numerical_count = criteo.get_numerical_count()\n",
        "categorical_count = criteo.get_categorical_count()\n",
        "hash_size = criteo.get_hash_size()\n"
      ],
      "execution_count": null,
      "outputs": []
    },
    {
      "cell_type": "markdown",
      "metadata": {
        "id": "ukUNmFvCMWZN"
      },
      "source": [
        "**Step 2.0: Build the recommender**\n",
        "\n",
        "Creates the pipeline\n",
        "\n",
        "Models can be customized for a searchable recommender\n",
        "\n",
        "**Step 2.1: Setup mappers to handle inputs**\n",
        "\n",
        "This step is to build a input node for your data. Criteo dataset has both dense & sparse inputs.\n"
      ]
    },
    {
      "cell_type": "code",
      "metadata": {
        "id": "KjLmqKknMpMd"
      },
      "source": [
        "dense_input_node = Input(shape=[numerical_count]) # shape=13 \n",
        "sparse_input_node = Input(shape=[categorical_count]) # shape=26\n",
        "dense_feat_emb = DenseFeatureMapper(\n",
        "    num_of_fields=numerical_count,\n",
        "    embedding_dim=2)(dense_input_node)\n",
        "sparse_feat_emb = SparseFeatureMapper(\n",
        "    num_of_fields=categorical_count,\n",
        "    hash_size=hash_size,\n",
        "    embedding_dim=2)(sparse_input_node)\n",
        "\n"
      ],
      "execution_count": null,
      "outputs": []
    },
    {
      "cell_type": "markdown",
      "metadata": {
        "id": "tbGLNEzCRor8"
      },
      "source": [
        "**Step 2.2: Setup interactors to handle models**\n",
        "\n",
        "This example has one interactor that is used three times. Any of other interactors can be stacked of your choice. \n"
      ]
    },
    {
      "cell_type": "code",
      "metadata": {
        "id": "8U3GTziTR1wO"
      },
      "source": [
        "sparse_feat_bottom_output = HyperInteraction(meta_interactor_num=2)([sparse_feat_emb])\n",
        "dense_feat_bottom_output = HyperInteraction(meta_interactor_num=2)([dense_feat_emb])\n",
        "hyper_output = HyperInteraction(meta_interactor_num=2)([sparse_feat_bottom_output, dense_feat_bottom_output])\n"
      ],
      "execution_count": null,
      "outputs": []
    },
    {
      "cell_type": "markdown",
      "metadata": {
        "id": "449ChEpER9rM"
      },
      "source": [
        "**Step 2.3: Setup optimizer to handle the target task**\n"
      ]
    },
    {
      "cell_type": "code",
      "metadata": {
        "id": "J1d7ukTAR-0c"
      },
      "source": [
        "output = CTRPredictionOptimizer()(hyper_output)\n",
        "model = CTRRecommender(inputs=[dense_input_node, sparse_input_node], outputs=output)\n"
      ],
      "execution_count": null,
      "outputs": []
    },
    {
      "cell_type": "markdown",
      "metadata": {
        "id": "rCgsGeYySMHd"
      },
      "source": [
        "**Step 3: Build the searcher**\n",
        "\n",
        "This provides the search algorithm."
      ]
    },
    {
      "cell_type": "code",
      "metadata": {
        "id": "iDtX6ZteSPnQ"
      },
      "source": [
        "searcher = Search(model=model,\n",
        "                  tuner='random',\n",
        "                  tuner_params={'max_trials': 2, 'overwrite': True},\n",
        "                  )\n"
      ],
      "execution_count": null,
      "outputs": []
    },
    {
      "cell_type": "markdown",
      "metadata": {
        "id": "aYMmGfSISSbK"
      },
      "source": [
        "**Step 4: Use the searcher to search the recommender**\n",
        "\n",
        "Search the best model and validate accuracy of the model\n",
        "\n",
        "Inputs such as objective, batch_size, call backs can be customized for you own model."
      ]
    },
    {
      "cell_type": "code",
      "metadata": {
        "id": "1xH8eF1pSV_e"
      },
      "source": [
        "searcher.search(x=[train_X_numerical, train_X_categorical],\n",
        "                y=train_y,\n",
        "                x_val=[val_X_numerical, val_X_categorical],\n",
        "                y_val=val_y,\n",
        "                objective='val_BinaryCrossentropy',\n",
        "                batch_size=10000,\n",
        "                epochs=2,\n",
        "                callbacks=[tf.keras.callbacks.EarlyStopping(monitor='val_loss', patience=1)]\n",
        "                )\n",
        "logger.info('Validation Accuracy (logloss): {}'.format(searcher.evaluate(x=[val_X_numerical, val_X_categorical],\n",
        "                                                                         y_true=val_y)))\n"
      ],
      "execution_count": null,
      "outputs": []
    },
    {
      "cell_type": "markdown",
      "metadata": {
        "id": "KNNdhPNRSYs0"
      },
      "source": [
        "**Step 5: Evaluate the searched model**\n"
      ]
    },
    {
      "cell_type": "code",
      "metadata": {
        "id": "CIy7tyuKSbKL"
      },
      "source": [
        "logger.info('Test Accuracy (logloss): {}'.format(searcher.evaluate(x=[test_X_numerical, test_X_categorical],\n",
        "                                                                   y_true=test_y)))\n"
      ],
      "execution_count": null,
      "outputs": []
    }
  ]
}
{
  "nbformat": 4,
  "nbformat_minor": 0,
  "metadata": {
    "colab": {
      "name": "CTR NeuMF",
      "provenance": [],
      "collapsed_sections": []
    },
    "kernelspec": {
      "name": "python3",
      "display_name": "Python 3"
    }
  },
  "cells": [
    {
      "cell_type": "code",
      "metadata": {
        "id": "tfDYOileInVS"
      },
      "source": [
        "!pip install autorec"
      ],
      "execution_count": null,
      "outputs": []
    },
    {
      "cell_type": "markdown",
      "metadata": {
        "id": "ndzdIKOzJiK5"
      },
      "source": [
        "# Neural Matrix Factorization (NeuMF)\n",
        "*Click-through rate*\n",
        "\n",
        "https://arxiv.org/pdf/1708.05031.pdf\n",
        "\n",
        "Description:\n",
        "NeuMF captures the personalized ranking task with implicit feedback with the use of both linearity and non-linearity. NeuMF consists of two subnetwork GMF and DNN layers. GMF layer computes the elementwise product of user and item latent factors. DNN layers concatenates user and item factors then uses multi-layer perceptron (MLP). Combining linearity and non-linearity of models, NeuMF leverages advantages of both subnetwork: generality and flexibility.\n",
        "\n",
        "## A simple example below\n",
        "\n",
        "**Step 0:Imports and Configurations**\n",
        "\n",
        "First, handle the imports with the correct configurations set. Also include the logging settings here."
      ]
    },
    {
      "cell_type": "code",
      "metadata": {
        "id": "d_yw1-HTkwGH"
      },
      "source": [
        "from __future__ import absolute_import, division, print_function, unicode_literals\n",
        "\n",
        "import os\n",
        "os.environ[\"CUDA_VISIBLE_DEVICES\"] = \"6\"\n",
        "\n",
        "import logging\n",
        "import tensorflow as tf\n",
        "from autorecsys.auto_search import Search\n",
        "from autorecsys.pipeline import Input, LatentFactorMapper, MLPInteraction, PointWiseOptimizer\n",
        "from autorecsys.pipeline.interactor import InnerProductInteraction\n",
        "from autorecsys.recommender import CTRRecommender\n",
        "from autorecsys.pipeline.preprocessor import CriteoPreprocessor\n",
        "\n",
        "\n",
        "# logging setting\n",
        "logging.basicConfig(level=logging.INFO, format='%(asctime)s - %(name)s - %(levelname)s - %(message)s')\n",
        "logging.basicConfig(level=logging.DEBUG, format='%(asctime)s - %(name)s - %(levelname)s - %(message)s')\n",
        "logger = logging.getLogger(__name__)\n",
        "\n"
      ],
      "execution_count": null,
      "outputs": []
    },
    {
      "cell_type": "markdown",
      "metadata": {
        "id": "2Hhlz8ODk2Wo"
      },
      "source": [
        "**Step 1: Preprocess data**\n",
        "\n",
        "CriteoPreprocessor() is a already built-in preprocessor for the Criteo dataset. \n"
      ]
    },
    {
      "cell_type": "code",
      "metadata": {
        "id": "AmN65RkXKZB5"
      },
      "source": [
        "# Step 1: Preprocess data\n",
        "criteo = CriteoPreprocessor()  # the default arguments are setup to preprocess the Criteo example dataset\n",
        "train_X, train_y, val_X, val_y, test_X, test_y = criteo.preprocess()\n",
        "train_X_numerical, train_X_categorical = criteo.get_x_numerical(train_X), criteo.get_x_categorical(train_X)\n",
        "val_X_numerical, val_X_categorical = criteo.get_x_numerical(val_X), criteo.get_x_categorical(val_X)\n",
        "test_X_numerical, test_X_categorical = criteo.get_x_numerical(test_X), criteo.get_x_categorical(test_X)\n",
        "numerical_count = criteo.get_numerical_count()\n",
        "categorical_count = criteo.get_categorical_count()\n",
        "hash_size = criteo.get_hash_size()\n"
      ],
      "execution_count": null,
      "outputs": []
    },
    {
      "cell_type": "markdown",
      "metadata": {
        "id": "ukUNmFvCMWZN"
      },
      "source": [
        "**Step 2.0: Build the recommender**\n",
        "\n",
        "Creates the pipeline\n",
        "\n",
        "Models can be customized for a searchable recommender\n",
        "\n",
        "**Step 2.1: Setup mappers to handle inputs**\n",
        "\n",
        "This step is to build a input node for your data. This examples requires to embed into two parts: gmf & mlp. \n"
      ]
    },
    {
      "cell_type": "code",
      "metadata": {
        "id": "KjLmqKknMpMd"
      },
      "source": [
        "input = Input(shape=[criteo.get_categorical_count()])\n",
        "user_emb_gmf = LatentFactorMapper(feat_column_id=0,\n",
        "                                  id_num=10000,\n",
        "                                  embedding_dim=64)(input)\n",
        "item_emb_gmf = LatentFactorMapper(feat_column_id=1,\n",
        "                                  id_num=10000,\n",
        "                                  embedding_dim=64)(input)\n",
        "\n",
        "user_emb_mlp = LatentFactorMapper(feat_column_id=0,\n",
        "                                  id_num=10000,\n",
        "                                  embedding_dim=64)(input)\n",
        "item_emb_mlp = LatentFactorMapper(feat_column_id=1,\n",
        "                                  id_num=10000,\n",
        "                                  embedding_dim=64)(input)\n",
        "\n"
      ],
      "execution_count": null,
      "outputs": []
    },
    {
      "cell_type": "markdown",
      "metadata": {
        "id": "tbGLNEzCRor8"
      },
      "source": [
        "**Step 2.2: Setup interactors to handle models**\n",
        "\n",
        "This example has two interactors. Any of other interactors can be stacked of your choice. \n",
        "\n"
      ]
    },
    {
      "cell_type": "code",
      "metadata": {
        "id": "8U3GTziTR1wO"
      },
      "source": [
        "innerproduct_output = InnerProductInteraction()([user_emb_gmf, item_emb_gmf])\n",
        "mlp_output = MLPInteraction()([user_emb_mlp, item_emb_mlp])\n",
        "\n"
      ],
      "execution_count": null,
      "outputs": []
    },
    {
      "cell_type": "markdown",
      "metadata": {
        "id": "449ChEpER9rM"
      },
      "source": [
        "**Step 2.3: Setup optimizer to handle the target task**\n",
        "\n",
        "Two interactors (innerproduct and mlp) are concatenated and optimized."
      ]
    },
    {
      "cell_type": "code",
      "metadata": {
        "id": "J1d7ukTAR-0c"
      },
      "source": [
        "output = PointWiseOptimizer()([innerproduct_output, mlp_output])\n",
        "model = CTRRecommender(inputs=input, outputs=output)\n"
      ],
      "execution_count": null,
      "outputs": []
    },
    {
      "cell_type": "markdown",
      "metadata": {
        "id": "rCgsGeYySMHd"
      },
      "source": [
        "**Step 3: Build the searcher**\n",
        "\n",
        "This provides the search algorithm\n"
      ]
    },
    {
      "cell_type": "code",
      "metadata": {
        "id": "iDtX6ZteSPnQ"
      },
      "source": [
        "searcher = Search(model=model,\n",
        "                  tuner='random',  # hyperband, greedy, bayesian\n",
        "                  tuner_params={\"max_trials\": 5}\n",
        "                  )\n"
      ],
      "execution_count": null,
      "outputs": []
    },
    {
      "cell_type": "markdown",
      "metadata": {
        "id": "aYMmGfSISSbK"
      },
      "source": [
        "**Step 4: Use the searcher to search the recommender**\n",
        "\n",
        "Search the best model and validate accuracy of the model\n",
        "\n",
        "\n",
        "Inputs such as objective, batch_size, call backs can be customized for you own model.\n"
      ]
    },
    {
      "cell_type": "code",
      "metadata": {
        "id": "1xH8eF1pSV_e"
      },
      "source": [
        "searcher.search(x=[criteo.get_x_categorical(train_X)],\n",
        "                y=train_y,\n",
        "                x_val=[criteo.get_x_categorical(val_X)],\n",
        "                y_val=val_y,\n",
        "                objective='val_BinaryCrossentropy',\n",
        "                batch_size=256,\n",
        "                epochs = 2,\n",
        "                callbacks = [ tf.keras.callbacks.EarlyStopping(monitor='val_loss', patience=1)] \n",
        "                )"
      ],
      "execution_count": null,
      "outputs": []
    },
    {
      "cell_type": "markdown",
      "metadata": {
        "id": "KNNdhPNRSYs0"
      },
      "source": [
        "**Step 5: Evaluate the searched model**\n"
      ]
    },
    {
      "cell_type": "code",
      "metadata": {
        "id": "CIy7tyuKSbKL"
      },
      "source": [
        "logger.info('Predicted Ratings: {}'.format(searcher.predict(x=[criteo.get_x_categorical(val_X)])))\n",
        "logger.info('Predicting Accuracy (mse): {}'.format(searcher.evaluate(x=[criteo.get_x_categorical(val_X)], y_true=val_y)))\n"
      ],
      "execution_count": null,
      "outputs": []
    },
    {
      "cell_type": "code",
      "metadata": {
        "id": "taSz1PJvYewL"
      },
      "source": [
        ""
      ],
      "execution_count": null,
      "outputs": []
    }
  ]
}
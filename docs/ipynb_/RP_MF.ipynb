{
  "nbformat": 4,
  "nbformat_minor": 0,
  "metadata": {
    "colab": {
      "name": "RP MF",
      "provenance": [],
      "collapsed_sections": []
    },
    "kernelspec": {
      "name": "python3",
      "display_name": "Python 3"
    }
  },
  "cells": [
    {
      "cell_type": "code",
      "metadata": {
        "id": "tfDYOileInVS"
      },
      "source": [
        "!pip install autorec"
      ],
      "execution_count": null,
      "outputs": []
    },
    {
      "cell_type": "markdown",
      "metadata": {
        "id": "ndzdIKOzJiK5"
      },
      "source": [
        "# Matrix Factorization (MF)\n",
        "*Rating Prediction*\n",
        "\n",
        "https://www.csie.ntu.edu.tw/~b97053/paper/Rendle2010FM.pdf\n",
        "\n",
        "Description:\n",
        "Factorization Machine is a supervised learning algorithm that obtains feature interactions under both density and sparsity. The model captures all single and pairwise interactions by factorizing each and every parameters; the model is calculated in linear time and depends on only linear parameters. Unlike other models which are specialized for specific tasks, FM is built for general purpose that can be handled with any real valued vector inputs.\n",
        "\n",
        "\n",
        "## A simple example below\n",
        "\n",
        "**Step 0:Imports and Configurations**\n",
        "\n",
        "First, handle the imports with the correct configurations set. Also include the logging settings here.\n"
      ]
    },
    {
      "cell_type": "code",
      "metadata": {
        "id": "l5uLh-NMjaZ7"
      },
      "source": [
        "from __future__ import absolute_import, division, print_function, unicode_literals\n",
        "import os\n",
        "os.environ[\"CUDA_VISIBLE_DEVICES\"] = \"5\"\n",
        "import tensorflow as tf\n",
        "import logging\n",
        "from autorecsys.auto_search import Search\n",
        "from autorecsys.pipeline import Input, LatentFactorMapper, RatingPredictionOptimizer\n",
        "from autorecsys.pipeline.interactor import InnerProductInteraction\n",
        "from autorecsys.pipeline.preprocessor import MovielensPreprocessor\n",
        "from autorecsys.recommender import RPRecommender\n",
        "\n",
        "# logging setting\n",
        "logging.basicConfig(level=logging.INFO, format='%(asctime)s - %(name)s - %(levelname)s - %(message)s')\n",
        "logging.basicConfig(level=logging.DEBUG, format='%(asctime)s - %(name)s - %(levelname)s - %(message)s')\n",
        "logger = logging.getLogger(__name__)\n"
      ],
      "execution_count": null,
      "outputs": []
    },
    {
      "cell_type": "markdown",
      "metadata": {
        "id": "l6WDr-odigew"
      },
      "source": [
        "**Step 1: Preprocess data**\n",
        "\n",
        "MovielensPreprocessor() is a already built-in preprocessor for the Movielens 1M dataset. \n",
        "\n",
        "Load the dataset, which in this case is set to the Movielens 1 million dataset, although options exist for a 10 million, latest, and Netflix dataset."
      ]
    },
    {
      "cell_type": "code",
      "metadata": {
        "id": "AmN65RkXKZB5"
      },
      "source": [
        "# Step 1: Preprocess data\n",
        "movielens = MovielensPreprocessor()\n",
        "train_X, train_y, val_X, val_y, test_X, test_y = movielens.preprocess()\n",
        "train_X_categorical = movielens.get_x_categorical(train_X)\n",
        "val_X_categorical = movielens.get_x_categorical(val_X)\n",
        "test_X_categorical = movielens.get_x_categorical(test_X)\n",
        "user_num, item_num = movielens.get_hash_size()\n"
      ],
      "execution_count": null,
      "outputs": []
    },
    {
      "cell_type": "markdown",
      "metadata": {
        "id": "ukUNmFvCMWZN"
      },
      "source": [
        "**Step 2.0: Build the recommender**\n",
        "\n",
        "Creates the pipeline\n",
        "\n",
        "Models can be customized for a searchable recommender\n",
        "\n",
        "**Step 2.1: Setup mappers to handle inputs**\n",
        "\n",
        "This step is to build a input node for your data. Then embed into a dimension of your choice. This example, embedding dim is declared to 64. \n"
      ]
    },
    {
      "cell_type": "code",
      "metadata": {
        "id": "KjLmqKknMpMd"
      },
      "source": [
        "input = Input(shape=[2])\n",
        "user_emb = LatentFactorMapper(feat_column_id=0,\n",
        "                              id_num=user_num,\n",
        "                              embedding_dim=64)(input)\n",
        "item_emb = LatentFactorMapper(feat_column_id=1,\n",
        "                              id_num=item_num,\n",
        "                              embedding_dim=64)(input)\n"
      ],
      "execution_count": null,
      "outputs": []
    },
    {
      "cell_type": "markdown",
      "metadata": {
        "id": "tbGLNEzCRor8"
      },
      "source": [
        "**Step 2.2: Setup interactors to handle models**\n",
        "\n",
        "This example has only one interactor. Any of other interactors can be stacked of your choice. \n",
        "\n"
      ]
    },
    {
      "cell_type": "code",
      "metadata": {
        "id": "8U3GTziTR1wO"
      },
      "source": [
        "output = InnerProductInteraction()([user_emb, item_emb])\n"
      ],
      "execution_count": null,
      "outputs": []
    },
    {
      "cell_type": "markdown",
      "metadata": {
        "id": "449ChEpER9rM"
      },
      "source": [
        "**Step 2.3: Setup optimizer to handle the target task**"
      ]
    },
    {
      "cell_type": "code",
      "metadata": {
        "id": "J1d7ukTAR-0c"
      },
      "source": [
        "output = RatingPredictionOptimizer()(output)\n",
        "model = RPRecommender(inputs=input, outputs=output)\n"
      ],
      "execution_count": null,
      "outputs": []
    },
    {
      "cell_type": "markdown",
      "metadata": {
        "id": "rCgsGeYySMHd"
      },
      "source": [
        "**Step 3: Build the searcher**\n",
        "\n",
        "This provides the search algorithm.\n"
      ]
    },
    {
      "cell_type": "code",
      "metadata": {
        "id": "iDtX6ZteSPnQ"
      },
      "source": [
        "searcher = Search(model=model,\n",
        "                  tuner='greedy',  # random, greedy\n",
        "                  tuner_params={\"max_trials\": 5, 'overwrite': True}\n"
      ],
      "execution_count": null,
      "outputs": []
    },
    {
      "cell_type": "markdown",
      "metadata": {
        "id": "aYMmGfSISSbK"
      },
      "source": [
        "**Step 4: Use the searcher to search the recommender**\n",
        "\n",
        "Search the best model and validate accuracy of the model\n",
        "\n",
        "Inputs such as objective, batch_size, call backs can be customized for you own model."
      ]
    },
    {
      "cell_type": "code",
      "metadata": {
        "id": "1xH8eF1pSV_e"
      },
      "source": [
        "searcher.search(x=[train_X_categorical],\n",
        "                y=train_y,\n",
        "                x_val=[val_X_categorical],\n",
        "                y_val=val_y,\n",
        "                objective='val_mse',\n",
        "                batch_size=1024,\n",
        "                epochs=10,\n",
        "                callbacks=[tf.keras.callbacks.EarlyStopping(monitor='val_loss', patience=1)])\n",
        "logger.info('Validation Accuracy (mse): {}'.format(searcher.evaluate(x=val_X_categorical,\n",
        "                                                                     y_true=val_y)))\n"
      ],
      "execution_count": null,
      "outputs": []
    },
    {
      "cell_type": "markdown",
      "metadata": {
        "id": "KNNdhPNRSYs0"
      },
      "source": [
        "**Step 5: Evaluate the searched model**\n",
        "\n"
      ]
    },
    {
      "cell_type": "code",
      "metadata": {
        "id": "CIy7tyuKSbKL"
      },
      "source": [
        "logger.info('Test Accuracy (mse): {}'.format(searcher.evaluate(x=test_X_categorical,\n",
        "                                                               y_true=test_y)))\n"
      ],
      "execution_count": null,
      "outputs": []
    }
  ]
}
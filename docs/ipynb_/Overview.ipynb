{
  "nbformat": 4,
  "nbformat_minor": 0,
  "metadata": {
    "colab": {
      "name": "Overview",
      "provenance": []
    },
    "kernelspec": {
      "name": "python3",
      "display_name": "Python 3"
    }
  },
  "cells": [
    {
      "cell_type": "markdown",
      "metadata": {
        "id": "zPWvd0ijg9R6"
      },
      "source": [
        "# AutoRec 1.0 Tutorial\n",
        "\n",
        "## Supported Task\n",
        "AutoRec supports two tasks with several built-in models. You can click the link below to see the details of each task/models.\n",
        "\n",
        "1. Click-Through rate (CTR)  \n",
        "  * ctr_autoint\n",
        "  * ctr_crossnet\n",
        "  * ctr_deepfm\n",
        "  * ctr_dlrm\n",
        "  * ctr_neumf\n",
        "\n",
        "2. Rating Prediction (RP)\n",
        "  * rp_mf\n",
        "  * rp_neumf\n",
        "\n",
        "## Searchable Customized Model\n",
        "\n",
        "You can quickly construct a high level architecture for your own searchable model. AutoRec will search for the best model.\n",
        "\n",
        "* ctr_autorec\n",
        "* rp_autorec\n",
        "\n",
        "\n",
        "## Customizable Nodes/Blocks\n",
        "These are predefined input Nodes/Blocks where you can customize your own stacked up model. You can click the link below to redirect. \n",
        "####Preprocessor\n",
        "* BasePreprocessor\n",
        "\n",
        "####Node\n",
        "* Input\n",
        "\n",
        "####Blocks\n",
        "* Mapper\n",
        "* DenseFeatureMapper\n",
        "* SparseFeatureMapper\n",
        "\n",
        "####Interactor\n",
        "* RandomSelectInteraction\n",
        "* ConcatenateInteraction\n",
        "* InnerProductInteraction\n",
        "* ElementwiseInteraction\n",
        "* MLPInteraction\n",
        "* HyperInteraction\n",
        "* FMInteraction\n",
        "* CrossNetInteraction\n",
        "* SelfAttentionInteraction\n",
        "\n",
        "####Optimizer\n",
        "* CTROptimizer\n",
        "* RPOptimizer\n"
      ]
    }
  ]
}